{
 "cells": [
  {
   "cell_type": "code",
   "execution_count": 4,
   "id": "fba36692",
   "metadata": {},
   "outputs": [],
   "source": [
    "#mengimport modul yang dibutuhkan\n",
    "from pyspark.sql import SparkSession\n",
    "from pyspark.sql.types import *\n",
    "from pyspark.sql.functions import *\n",
    "from pyspark.ml.recommendation import ALS\n",
    "from pyspark.ml.evaluation import RegressionEvaluator\n",
    "from pyspark.sql.functions import hash, abs\n",
    "\n",
    "#membuat session\n",
    "appName = \"Sistem Penskoran Otomatis pada Soal Essay 2\"\n",
    "spark = SparkSession \\\n",
    "    .builder \\\n",
    "    .appName(appName) \\\n",
    "    .config(\"spark.some.config.option\", \"some-value\") \\\n",
    "    .getOrCreate()"
   ]
  },
  {
   "cell_type": "code",
   "execution_count": 5,
   "id": "f812ca74",
   "metadata": {},
   "outputs": [
    {
     "data": {
      "text/html": [
       "\n",
       "            <div>\n",
       "                <p><b>SparkSession - in-memory</b></p>\n",
       "                \n",
       "        <div>\n",
       "            <p><b>SparkContext</b></p>\n",
       "\n",
       "            <p><a href=\"http://LAPTOP-J51SGLU7:4040\">Spark UI</a></p>\n",
       "\n",
       "            <dl>\n",
       "              <dt>Version</dt>\n",
       "                <dd><code>v3.4.0</code></dd>\n",
       "              <dt>Master</dt>\n",
       "                <dd><code>local[*]</code></dd>\n",
       "              <dt>AppName</dt>\n",
       "                <dd><code>Sistem Penskoran Otomatis pada Soal Essay 2</code></dd>\n",
       "            </dl>\n",
       "        </div>\n",
       "        \n",
       "            </div>\n",
       "        "
      ],
      "text/plain": [
       "<pyspark.sql.session.SparkSession at 0x1f35277c280>"
      ]
     },
     "execution_count": 5,
     "metadata": {},
     "output_type": "execute_result"
    }
   ],
   "source": [
    "spark"
   ]
  },
  {
   "cell_type": "markdown",
   "id": "36b0464d",
   "metadata": {},
   "source": [
    "# Import Dataset"
   ]
  },
  {
   "cell_type": "code",
   "execution_count": 8,
   "id": "657a4b39",
   "metadata": {},
   "outputs": [],
   "source": [
    "df_pyspark=spark.read.csv('training_data_essay.csv', sep=';', inferSchema=True, header=True)"
   ]
  },
  {
   "cell_type": "code",
   "execution_count": 9,
   "id": "ed029b49",
   "metadata": {},
   "outputs": [
    {
     "name": "stdout",
     "output_type": "stream",
     "text": [
      "+----------+------------+--------------------+----+-------------+\n",
      "|       npm|nama_peserta|             jawaban|soal|skor_per_soal|\n",
      "+----------+------------+--------------------+----+-------------+\n",
      "|         0|       Admin|Tidak, Hanya memb...|   1|          100|\n",
      "|         0|       Admin|Biaya dihitung be...|   2|          100|\n",
      "|         0|       Admin|Hak cipta adalah ...|   3|          100|\n",
      "|         0|       Admin|Dijelaskan kepada...|   4|          100|\n",
      "|         0|       Admin|1. Melindungi dan...|   5|          100|\n",
      "|         0|       Admin|Ruang Komputer, P...|   6|          100|\n",
      "|         0|       Admin|Aturlah posisi pe...|   7|          100|\n",
      "|         0|       Admin|Posisi Kepala dan...|   8|          100|\n",
      "|         0|       Admin|1. Kecocokan soft...|   9|          100|\n",
      "|         0|       Admin|1. Fokus dan expo...|  10|          100|\n",
      "|         0|       Admin|1. Peralatan yang...|  11|          100|\n",
      "|         0|       Admin|1. Dibuat grafik ...|  12|          100|\n",
      "|1121020033|          AP|tidak, cuma mengi...|   1|         52,7|\n",
      "|1121020033|          AP|biaya dihitung be...|   2|        42,86|\n",
      "|1121020033|          AP|hak membuat merup...|   3|        42,16|\n",
      "|1121020033|          AP|dipaparkan pada k...|   4|        27,19|\n",
      "|1121020033|          AP|1. mencegah serta...|   5|        44,14|\n",
      "|1121020033|          AP|ruang komputer, p...|   6|          100|\n",
      "|1121020033|          AP|aturlah posisi fi...|   7|        57,68|\n",
      "|1121020033|          AP|posisi kepala ser...|   8|        45,71|\n",
      "+----------+------------+--------------------+----+-------------+\n",
      "only showing top 20 rows\n",
      "\n"
     ]
    }
   ],
   "source": [
    "df_pyspark.show(20)"
   ]
  },
  {
   "cell_type": "markdown",
   "id": "feb99db2",
   "metadata": {},
   "source": [
    "# Pre-Processing"
   ]
  },
  {
   "cell_type": "code",
   "execution_count": 10,
   "id": "8ddba4f5",
   "metadata": {},
   "outputs": [
    {
     "name": "stdout",
     "output_type": "stream",
     "text": [
      "+----------+------------+--------------------+----+-------------+\n",
      "|       npm|nama_peserta|             jawaban|soal|skor_per_soal|\n",
      "+----------+------------+--------------------+----+-------------+\n",
      "|         0|       Admin|Tidak, Hanya memb...|   1|          100|\n",
      "|         0|       Admin|Biaya dihitung be...|   2|          100|\n",
      "|         0|       Admin|Hak cipta adalah ...|   3|          100|\n",
      "|         0|       Admin|Dijelaskan kepada...|   4|          100|\n",
      "|         0|       Admin|1. Melindungi dan...|   5|          100|\n",
      "|         0|       Admin|Ruang Komputer, P...|   6|          100|\n",
      "|         0|       Admin|Aturlah posisi pe...|   7|          100|\n",
      "|         0|       Admin|Posisi Kepala dan...|   8|          100|\n",
      "|         0|       Admin|1. Kecocokan soft...|   9|          100|\n",
      "|         0|       Admin|1. Fokus dan expo...|  10|          100|\n",
      "|         0|       Admin|1. Peralatan yang...|  11|          100|\n",
      "|         0|       Admin|1. Dibuat grafik ...|  12|          100|\n",
      "|1121020033|          AP|tidak, cuma mengi...|   1|         52.7|\n",
      "|1121020033|          AP|biaya dihitung be...|   2|        42.86|\n",
      "|1121020033|          AP|hak membuat merup...|   3|        42.16|\n",
      "|1121020033|          AP|dipaparkan pada k...|   4|        27.19|\n",
      "|1121020033|          AP|1. mencegah serta...|   5|        44.14|\n",
      "|1121020033|          AP|ruang komputer, p...|   6|          100|\n",
      "|1121020033|          AP|aturlah posisi fi...|   7|        57.68|\n",
      "|1121020033|          AP|posisi kepala ser...|   8|        45.71|\n",
      "+----------+------------+--------------------+----+-------------+\n",
      "only showing top 20 rows\n",
      "\n"
     ]
    }
   ],
   "source": [
    "# Replace comma (\",\") with dot (\".\") in the \"score\" column\n",
    "df_pyspark = df_pyspark.withColumn(\"skor_per_soal\", regexp_replace(col(\"skor_per_soal\"), \",\", \".\"))\n",
    "\n",
    "# Show the DataFrame after replacing the comma with a dot\n",
    "df_pyspark.show()"
   ]
  },
  {
   "cell_type": "code",
   "execution_count": 11,
   "id": "b9c598a5",
   "metadata": {},
   "outputs": [
    {
     "name": "stdout",
     "output_type": "stream",
     "text": [
      "root\n",
      " |-- npm: integer (nullable = true)\n",
      " |-- nama_peserta: string (nullable = true)\n",
      " |-- jawaban: string (nullable = true)\n",
      " |-- soal: integer (nullable = true)\n",
      " |-- skor_per_soal: string (nullable = true)\n",
      "\n"
     ]
    }
   ],
   "source": [
    "df_pyspark.printSchema()"
   ]
  },
  {
   "cell_type": "code",
   "execution_count": 12,
   "id": "0967a796",
   "metadata": {},
   "outputs": [
    {
     "name": "stdout",
     "output_type": "stream",
     "text": [
      "root\n",
      " |-- npm: integer (nullable = true)\n",
      " |-- nama_peserta: string (nullable = true)\n",
      " |-- jawaban: string (nullable = true)\n",
      " |-- soal: integer (nullable = true)\n",
      " |-- skor_per_soal: float (nullable = true)\n",
      "\n",
      "+----------+------------+--------------------+----+-------------+\n",
      "|       npm|nama_peserta|             jawaban|soal|skor_per_soal|\n",
      "+----------+------------+--------------------+----+-------------+\n",
      "|         0|       Admin|Tidak, Hanya memb...|   1|        100.0|\n",
      "|         0|       Admin|Biaya dihitung be...|   2|        100.0|\n",
      "|         0|       Admin|Hak cipta adalah ...|   3|        100.0|\n",
      "|         0|       Admin|Dijelaskan kepada...|   4|        100.0|\n",
      "|         0|       Admin|1. Melindungi dan...|   5|        100.0|\n",
      "|         0|       Admin|Ruang Komputer, P...|   6|        100.0|\n",
      "|         0|       Admin|Aturlah posisi pe...|   7|        100.0|\n",
      "|         0|       Admin|Posisi Kepala dan...|   8|        100.0|\n",
      "|         0|       Admin|1. Kecocokan soft...|   9|        100.0|\n",
      "|         0|       Admin|1. Fokus dan expo...|  10|        100.0|\n",
      "|         0|       Admin|1. Peralatan yang...|  11|        100.0|\n",
      "|         0|       Admin|1. Dibuat grafik ...|  12|        100.0|\n",
      "|1121020033|          AP|tidak, cuma mengi...|   1|         52.7|\n",
      "|1121020033|          AP|biaya dihitung be...|   2|        42.86|\n",
      "|1121020033|          AP|hak membuat merup...|   3|        42.16|\n",
      "|1121020033|          AP|dipaparkan pada k...|   4|        27.19|\n",
      "|1121020033|          AP|1. mencegah serta...|   5|        44.14|\n",
      "|1121020033|          AP|ruang komputer, p...|   6|        100.0|\n",
      "|1121020033|          AP|aturlah posisi fi...|   7|        57.68|\n",
      "|1121020033|          AP|posisi kepala ser...|   8|        45.71|\n",
      "+----------+------------+--------------------+----+-------------+\n",
      "only showing top 20 rows\n",
      "\n"
     ]
    }
   ],
   "source": [
    "# Change the data type of the \"id\" column to integer\n",
    "df_pyspark = df_pyspark.withColumn(\"skor_per_soal\", col(\"skor_per_soal\").cast(\"float\"))\n",
    "\n",
    "# Display the updated DataFrame schema\n",
    "df_pyspark.printSchema()\n",
    "df_pyspark.show()"
   ]
  },
  {
   "cell_type": "markdown",
   "id": "3b1a9403",
   "metadata": {},
   "source": [
    "# Menyiapkan Data"
   ]
  },
  {
   "cell_type": "code",
   "execution_count": 13,
   "id": "e3ee9100",
   "metadata": {},
   "outputs": [
    {
     "name": "stdout",
     "output_type": "stream",
     "text": [
      "+----+--------------------+-------------+\n",
      "|soal|             jawaban|skor_per_soal|\n",
      "+----+--------------------+-------------+\n",
      "|   1|Tidak, Hanya memb...|        100.0|\n",
      "|   2|Biaya dihitung be...|        100.0|\n",
      "|   3|Hak cipta adalah ...|        100.0|\n",
      "|   4|Dijelaskan kepada...|        100.0|\n",
      "|   5|1. Melindungi dan...|        100.0|\n",
      "|   6|Ruang Komputer, P...|        100.0|\n",
      "|   7|Aturlah posisi pe...|        100.0|\n",
      "|   8|Posisi Kepala dan...|        100.0|\n",
      "|   9|1. Kecocokan soft...|        100.0|\n",
      "|  10|1. Fokus dan expo...|        100.0|\n",
      "|  11|1. Peralatan yang...|        100.0|\n",
      "|  12|1. Dibuat grafik ...|        100.0|\n",
      "|   1|tidak, cuma mengi...|         52.7|\n",
      "|   2|biaya dihitung be...|        42.86|\n",
      "|   3|hak membuat merup...|        42.16|\n",
      "|   4|dipaparkan pada k...|        27.19|\n",
      "|   5|1. mencegah serta...|        44.14|\n",
      "|   6|ruang komputer, p...|        100.0|\n",
      "|   7|aturlah posisi fi...|        57.68|\n",
      "|   8|posisi kepala ser...|        45.71|\n",
      "+----+--------------------+-------------+\n",
      "only showing top 20 rows\n",
      "\n"
     ]
    }
   ],
   "source": [
    "data = df_pyspark.select(\"soal\",\"jawaban\",'skor_per_soal')\n",
    "data.show()"
   ]
  },
  {
   "cell_type": "code",
   "execution_count": 14,
   "id": "1a0bf217",
   "metadata": {},
   "outputs": [
    {
     "name": "stdout",
     "output_type": "stream",
     "text": [
      "+----+-----------+-------------+\n",
      "|soal|hashedValue|skor_per_soal|\n",
      "+----+-----------+-------------+\n",
      "|1   |-2059296905|100.0        |\n",
      "|2   |1183180174 |100.0        |\n",
      "|3   |1232762403 |100.0        |\n",
      "|4   |-2035408785|100.0        |\n",
      "|5   |1588395990 |100.0        |\n",
      "|6   |339970513  |100.0        |\n",
      "|7   |50850002   |100.0        |\n",
      "|8   |-945877996 |100.0        |\n",
      "|9   |1576366224 |100.0        |\n",
      "|10  |-1905649442|100.0        |\n",
      "|11  |550139146  |100.0        |\n",
      "|12  |1727767227 |100.0        |\n",
      "|1   |1947733435 |52.7         |\n",
      "|2   |-1139863335|42.86        |\n",
      "|3   |122676417  |42.16        |\n",
      "|4   |-1054163002|27.19        |\n",
      "|5   |1990940339 |44.14        |\n",
      "|6   |1770907636 |100.0        |\n",
      "|7   |-463479969 |57.68        |\n",
      "|8   |-412537011 |45.71        |\n",
      "+----+-----------+-------------+\n",
      "only showing top 20 rows\n",
      "\n"
     ]
    }
   ],
   "source": [
    "# Apply the hash function\n",
    "hashedData = data.withColumn(\"hashedValue\", hash(\"jawaban\"))\n",
    "\n",
    "# Show the results\n",
    "hashedData.select(\"soal\", \"hashedValue\",\"skor_per_soal\").show(truncate=False)\n"
   ]
  },
  {
   "cell_type": "markdown",
   "id": "541fc3d6",
   "metadata": {},
   "source": [
    "# Splitting Data"
   ]
  },
  {
   "cell_type": "code",
   "execution_count": 15,
   "id": "2ac71220",
   "metadata": {},
   "outputs": [
    {
     "name": "stdout",
     "output_type": "stream",
     "text": [
      "Jumlah baris data training: 79 , jumlah baris data testing: 41\n"
     ]
    }
   ],
   "source": [
    "#membagi data, 70% training dan 30% testing\n",
    "splits = hashedData.randomSplit([0.7, 0.3])\n",
    "train = splits[0].withColumnRenamed(\"skor_per_soal\", \"Label\")\n",
    "test = splits[1].withColumnRenamed(\"skor_per_soal\", \"trueLabel\")\n",
    "\n",
    "#menghitung baris data training dan testing\n",
    "train_rows = train.count()\n",
    "test_rows = test.count()\n",
    "print (\"Jumlah baris data training:\", train_rows, \n",
    "       \", jumlah baris data testing:\", test_rows)"
   ]
  },
  {
   "cell_type": "code",
   "execution_count": 16,
   "id": "7de9be90",
   "metadata": {},
   "outputs": [
    {
     "name": "stdout",
     "output_type": "stream",
     "text": [
      "+----+--------------------+-----+-----------+\n",
      "|soal|             jawaban|Label|hashedValue|\n",
      "+----+--------------------+-----+-----------+\n",
      "|   1|Tidak, Hanya memb...|100.0|-2059296905|\n",
      "|   1|tidak, cuma mengi...| 52.7| 1947733435|\n",
      "|   1|tidak, hanya memb...|100.0| -256638840|\n",
      "|   1|tidak, hanya memb...|100.0| -256638840|\n",
      "|   1|tidak, hanya memb...|100.0| -256638840|\n",
      "|   1|tidak, hanya memb...|100.0| -256638840|\n",
      "|   1|tidak, hanya memb...|100.0| -256638840|\n",
      "|   1|tidak, hanya memb...|100.0| -256638840|\n",
      "|   1|tidak, hanya memb...|100.0| -256638840|\n",
      "|   2|Biaya dihitung be...|100.0| 1183180174|\n",
      "|   2|biaya dihitung be...|84.52| -219318287|\n",
      "|   2|biaya dihitung be...|100.0| 1176853507|\n",
      "|   2|biaya dihitung be...|100.0| 1176853507|\n",
      "|   2|biaya dihitung be...|100.0| 1176853507|\n",
      "|   2|biaya dihitung be...|100.0| 1176853507|\n",
      "|   2|biaya dihitung be...|42.86|-1139863335|\n",
      "|   2|   perhitungan biaya|26.73| -808224749|\n",
      "|   3|hak cipta adalah ...|83.43|-1876419705|\n",
      "|   3|hak cipta adalah ...|91.71|  770340049|\n",
      "|   3|hak cipta adalah ...|91.71|  770340049|\n",
      "+----+--------------------+-----+-----------+\n",
      "only showing top 20 rows\n",
      "\n"
     ]
    }
   ],
   "source": [
    "train.show()"
   ]
  },
  {
   "cell_type": "code",
   "execution_count": 17,
   "id": "0257bd64",
   "metadata": {},
   "outputs": [
    {
     "name": "stdout",
     "output_type": "stream",
     "text": [
      "root\n",
      " |-- soal: integer (nullable = true)\n",
      " |-- jawaban: string (nullable = true)\n",
      " |-- Label: float (nullable = true)\n",
      " |-- hashedValue: integer (nullable = false)\n",
      "\n"
     ]
    }
   ],
   "source": [
    "train.printSchema()"
   ]
  },
  {
   "cell_type": "markdown",
   "id": "a70ae2fe",
   "metadata": {},
   "source": [
    "# Mendefinisikan Model"
   ]
  },
  {
   "cell_type": "code",
   "execution_count": null,
   "id": "4f5320e6",
   "metadata": {},
   "outputs": [],
   "source": [
    "#mendefinisikan algoritma ALS untuk sistem rekomender kita\n",
    "als = ALS(maxIter=120, regParam=0.01, userCol=\"soal\", \n",
    "          itemCol=\"hashedValue\", ratingCol=\"Label\")\n",
    "#mentraining model dengan fungsi \".fit()\"\n",
    "model = als.fit(train)\n",
    "print(\"Model telah selesai ditraining!\")"
   ]
  },
  {
   "cell_type": "markdown",
   "id": "2f4af864",
   "metadata": {},
   "source": [
    "# Menyiapkan Data Baru"
   ]
  },
  {
   "cell_type": "code",
   "execution_count": 71,
   "id": "0800a858",
   "metadata": {},
   "outputs": [],
   "source": [
    "data_baru=spark.read.csv('dataset_baru.csv', sep=';', inferSchema=True, header=True)"
   ]
  },
  {
   "cell_type": "code",
   "execution_count": 72,
   "id": "809b1e19",
   "metadata": {},
   "outputs": [
    {
     "name": "stdout",
     "output_type": "stream",
     "text": [
      "+-----------+------------+--------------------+----+-------------+\n",
      "|        npm|nama_peserta|             jawaban|soal|skor_per_soal|\n",
      "+-----------+------------+--------------------+----+-------------+\n",
      "|21083010032|      Angela|Ya, semakin banya...|   1|         20,5|\n",
      "|21083010032|      Angela|Jumlah uang yang ...|   2|           45|\n",
      "|21083010032|      Angela|hak membuat merup...|   3|        43,18|\n",
      "|21083010032|      Angela|bila graf sangat ...|   4|        24,56|\n",
      "|21083010032|      Angela|1. mencegah serta...|   5|         46,9|\n",
      "|21083010032|      Angela|ruang komputer, p...|   6|          100|\n",
      "|21083010032|      Angela|aturlah posisi  k...|   7|         63,4|\n",
      "|21083010032|      Angela|posisi kepala ser...|   8|           48|\n",
      "|21083010032|      Angela|1.kesesuaian apli...|   9|        51,33|\n",
      "|21083010032|      Angela|fokus serta apa a...|  10|        39,08|\n",
      "|21083010032|      Angela|1. perlengkapan y...|  11|        39,88|\n",
      "|21083010032|      Angela|metode artwork 2d...|  12|        25,67|\n",
      "+-----------+------------+--------------------+----+-------------+\n",
      "\n"
     ]
    }
   ],
   "source": [
    "data_baru.show()"
   ]
  },
  {
   "cell_type": "code",
   "execution_count": 73,
   "id": "f740536c",
   "metadata": {},
   "outputs": [
    {
     "name": "stdout",
     "output_type": "stream",
     "text": [
      "+-----------+------------+--------------------+----+-------------+\n",
      "|        npm|nama_peserta|             jawaban|soal|skor_per_soal|\n",
      "+-----------+------------+--------------------+----+-------------+\n",
      "|21083010032|      Angela|Ya, semakin banya...|   1|         20.5|\n",
      "|21083010032|      Angela|Jumlah uang yang ...|   2|           45|\n",
      "|21083010032|      Angela|hak membuat merup...|   3|        43.18|\n",
      "|21083010032|      Angela|bila graf sangat ...|   4|        24.56|\n",
      "|21083010032|      Angela|1. mencegah serta...|   5|         46.9|\n",
      "|21083010032|      Angela|ruang komputer, p...|   6|          100|\n",
      "|21083010032|      Angela|aturlah posisi  k...|   7|         63.4|\n",
      "|21083010032|      Angela|posisi kepala ser...|   8|           48|\n",
      "|21083010032|      Angela|1.kesesuaian apli...|   9|        51.33|\n",
      "|21083010032|      Angela|fokus serta apa a...|  10|        39.08|\n",
      "|21083010032|      Angela|1. perlengkapan y...|  11|        39.88|\n",
      "|21083010032|      Angela|metode artwork 2d...|  12|        25.67|\n",
      "+-----------+------------+--------------------+----+-------------+\n",
      "\n"
     ]
    }
   ],
   "source": [
    "# Replace comma (\",\") with dot (\".\") in the \"score\" column\n",
    "data_baru = data_baru.withColumn(\"skor_per_soal\", regexp_replace(col(\"skor_per_soal\"), \",\", \".\"))\n",
    "\n",
    "# Show the DataFrame after replacing the comma with a dot\n",
    "data_baru.show()"
   ]
  },
  {
   "cell_type": "code",
   "execution_count": 74,
   "id": "3c95db94",
   "metadata": {},
   "outputs": [
    {
     "name": "stdout",
     "output_type": "stream",
     "text": [
      "root\n",
      " |-- npm: long (nullable = true)\n",
      " |-- nama_peserta: string (nullable = true)\n",
      " |-- jawaban: string (nullable = true)\n",
      " |-- soal: integer (nullable = true)\n",
      " |-- skor_per_soal: float (nullable = true)\n",
      "\n",
      "+-----------+------------+--------------------+----+-------------+\n",
      "|        npm|nama_peserta|             jawaban|soal|skor_per_soal|\n",
      "+-----------+------------+--------------------+----+-------------+\n",
      "|21083010032|      Angela|Ya, semakin banya...|   1|         20.5|\n",
      "|21083010032|      Angela|Jumlah uang yang ...|   2|         45.0|\n",
      "|21083010032|      Angela|hak membuat merup...|   3|        43.18|\n",
      "|21083010032|      Angela|bila graf sangat ...|   4|        24.56|\n",
      "|21083010032|      Angela|1. mencegah serta...|   5|         46.9|\n",
      "|21083010032|      Angela|ruang komputer, p...|   6|        100.0|\n",
      "|21083010032|      Angela|aturlah posisi  k...|   7|         63.4|\n",
      "|21083010032|      Angela|posisi kepala ser...|   8|         48.0|\n",
      "|21083010032|      Angela|1.kesesuaian apli...|   9|        51.33|\n",
      "|21083010032|      Angela|fokus serta apa a...|  10|        39.08|\n",
      "|21083010032|      Angela|1. perlengkapan y...|  11|        39.88|\n",
      "|21083010032|      Angela|metode artwork 2d...|  12|        25.67|\n",
      "+-----------+------------+--------------------+----+-------------+\n",
      "\n"
     ]
    }
   ],
   "source": [
    "# Change the data type of the \"id\" column to integer\n",
    "data_baru_2 = data_baru.withColumn(\"skor_per_soal\", col(\"skor_per_soal\").cast(\"float\"))\n",
    "\n",
    "# Display the updated DataFrame schema\n",
    "data_baru_2.printSchema()\n",
    "data_baru_2.show()"
   ]
  },
  {
   "cell_type": "code",
   "execution_count": 75,
   "id": "684e1a54",
   "metadata": {},
   "outputs": [
    {
     "name": "stdout",
     "output_type": "stream",
     "text": [
      "+----+--------------------+-------------+\n",
      "|soal|             jawaban|skor_per_soal|\n",
      "+----+--------------------+-------------+\n",
      "|   1|Ya, semakin banya...|         20.5|\n",
      "|   2|Jumlah uang yang ...|         45.0|\n",
      "|   3|hak membuat merup...|        43.18|\n",
      "|   4|bila graf sangat ...|        24.56|\n",
      "|   5|1. mencegah serta...|         46.9|\n",
      "|   6|ruang komputer, p...|        100.0|\n",
      "|   7|aturlah posisi  k...|         63.4|\n",
      "|   8|posisi kepala ser...|         48.0|\n",
      "|   9|1.kesesuaian apli...|        51.33|\n",
      "|  10|fokus serta apa a...|        39.08|\n",
      "|  11|1. perlengkapan y...|        39.88|\n",
      "|  12|metode artwork 2d...|        25.67|\n",
      "+----+--------------------+-------------+\n",
      "\n"
     ]
    }
   ],
   "source": [
    "data2 = data_baru_2.select(\"soal\",\"jawaban\",'skor_per_soal')\n",
    "data2.show()"
   ]
  },
  {
   "cell_type": "code",
   "execution_count": 76,
   "id": "7afa00b5",
   "metadata": {},
   "outputs": [
    {
     "name": "stdout",
     "output_type": "stream",
     "text": [
      "+----+-----------+-------------+\n",
      "|soal|hashedValue|skor_per_soal|\n",
      "+----+-----------+-------------+\n",
      "|1   |1019100933 |20.5         |\n",
      "|2   |1481524314 |45.0         |\n",
      "|3   |122676417  |43.18        |\n",
      "|4   |76487259   |24.56        |\n",
      "|5   |1990940339 |46.9         |\n",
      "|6   |1770907636 |100.0        |\n",
      "|7   |400780623  |63.4         |\n",
      "|8   |-412537011 |48.0         |\n",
      "|9   |-55989520  |51.33        |\n",
      "|10  |670920752  |39.08        |\n",
      "|11  |723150141  |39.88        |\n",
      "|12  |343114756  |25.67        |\n",
      "+----+-----------+-------------+\n",
      "\n"
     ]
    }
   ],
   "source": [
    "# Apply the hash function\n",
    "hashedData2 = data2.withColumn(\"hashedValue\", hash(\"jawaban\"))\n",
    "\n",
    "# Show the results\n",
    "hashedData2.select(\"soal\", \"hashedValue\",\"skor_per_soal\").show(truncate=False)"
   ]
  },
  {
   "cell_type": "markdown",
   "id": "709ab907",
   "metadata": {},
   "source": [
    "# Melakukan Prediksi dengan Dataset baru"
   ]
  },
  {
   "cell_type": "code",
   "execution_count": 78,
   "id": "b2b7cdac",
   "metadata": {},
   "outputs": [
    {
     "name": "stdout",
     "output_type": "stream",
     "text": [
      "+----+--------------------+-------------+-----------+----------+\n",
      "|soal|             jawaban|skor_per_soal|hashedValue|prediction|\n",
      "+----+--------------------+-------------+-----------+----------+\n",
      "|   1|Ya, semakin banya...|         20.5| 1019100933|       NaN|\n",
      "|   5|1. mencegah serta...|         46.9| 1990940339| 44.139896|\n",
      "|   2|Jumlah uang yang ...|         45.0| 1481524314|       NaN|\n",
      "|   9|1.kesesuaian apli...|        51.33|  -55989520|       NaN|\n",
      "|   7|aturlah posisi  k...|         63.4|  400780623|       NaN|\n",
      "|   3|hak membuat merup...|        43.18|  122676417| 42.159916|\n",
      "|  10|fokus serta apa a...|        39.08|  670920752|       NaN|\n",
      "|  12|metode artwork 2d...|        25.67|  343114756|       NaN|\n",
      "|  11|1. perlengkapan y...|        39.88|  723150141|       NaN|\n",
      "|   6|ruang komputer, p...|        100.0| 1770907636|     100.0|\n",
      "|   8|posisi kepala ser...|         48.0| -412537011|       NaN|\n",
      "|   4|bila graf sangat ...|        24.56|   76487259|       NaN|\n",
      "+----+--------------------+-------------+-----------+----------+\n",
      "\n"
     ]
    }
   ],
   "source": [
    "predictions2 = model.transform(hashedData2)\n",
    "predictions2.show()"
   ]
  },
  {
   "cell_type": "markdown",
   "id": "130a69d6",
   "metadata": {},
   "source": [
    "# Evaluasi Model"
   ]
  },
  {
   "cell_type": "code",
   "execution_count": 79,
   "id": "5a850c45",
   "metadata": {},
   "outputs": [
    {
     "name": "stdout",
     "output_type": "stream",
     "text": [
      "Root Mean Square Error (RMSE): nan\n"
     ]
    }
   ],
   "source": [
    "#import RegressionEvaluator karena kita ingin menghitung RMSE\n",
    "#, yg formulanya sama saja meski untuk sistem rekomender\n",
    "from pyspark.ml.evaluation import RegressionEvaluator\n",
    "\n",
    "evaluator = RegressionEvaluator(\n",
    "    labelCol=\"skor_per_soal\", predictionCol=\"prediction\", metricName=\"rmse\")\n",
    "rmse = evaluator.evaluate(predictions2)\n",
    "print (\"Root Mean Square Error (RMSE):\", rmse)"
   ]
  },
  {
   "cell_type": "code",
   "execution_count": 80,
   "id": "40ecdb09",
   "metadata": {},
   "outputs": [
    {
     "name": "stdout",
     "output_type": "stream",
     "text": [
      "jumlah baris sebelum di hapus data kosong:  12\n",
      "jumlah baris setelah di hapus data kosong:  3\n",
      "jumlah baris data kosong:  9\n"
     ]
    }
   ],
   "source": [
    "a = predictions2.count()\n",
    "print(\"jumlah baris sebelum di hapus data kosong: \", a)\n",
    "cleanPred = predictions2.dropna(how=\"any\", subset=[\"prediction\"])\n",
    "b = cleanPred.count()\n",
    "print(\"jumlah baris setelah di hapus data kosong: \", b)\n",
    "print(\"jumlah baris data kosong: \", a-b)"
   ]
  },
  {
   "cell_type": "code",
   "execution_count": 81,
   "id": "1c610bad",
   "metadata": {},
   "outputs": [
    {
     "name": "stdout",
     "output_type": "stream",
     "text": [
      "+----+--------------------+-------------+-----------+----------+\n",
      "|soal|             jawaban|skor_per_soal|hashedValue|prediction|\n",
      "+----+--------------------+-------------+-----------+----------+\n",
      "|   5|1. mencegah serta...|         46.9| 1990940339| 44.139896|\n",
      "|   3|hak membuat merup...|        43.18|  122676417| 42.159916|\n",
      "|   6|ruang komputer, p...|        100.0| 1770907636|     100.0|\n",
      "+----+--------------------+-------------+-----------+----------+\n",
      "\n"
     ]
    }
   ],
   "source": [
    "cleanPred.show()"
   ]
  },
  {
   "cell_type": "code",
   "execution_count": 82,
   "id": "1983303a",
   "metadata": {},
   "outputs": [
    {
     "name": "stdout",
     "output_type": "stream",
     "text": [
      "Root Mean Square Error (RMSE): 1.6988969450888771\n"
     ]
    }
   ],
   "source": [
    "rmse = evaluator.evaluate(cleanPred)\n",
    "print (\"Root Mean Square Error (RMSE):\", rmse)"
   ]
  },
  {
   "cell_type": "code",
   "execution_count": null,
   "id": "aa0a1654",
   "metadata": {},
   "outputs": [],
   "source": []
  }
 ],
 "metadata": {
  "kernelspec": {
   "display_name": "Python 3 (ipykernel)",
   "language": "python",
   "name": "python3"
  },
  "language_info": {
   "codemirror_mode": {
    "name": "ipython",
    "version": 3
   },
   "file_extension": ".py",
   "mimetype": "text/x-python",
   "name": "python",
   "nbconvert_exporter": "python",
   "pygments_lexer": "ipython3",
   "version": "3.9.13"
  }
 },
 "nbformat": 4,
 "nbformat_minor": 5
}
